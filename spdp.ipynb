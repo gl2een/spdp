{
 "cells": [
  {
   "cell_type": "code",
   "execution_count": 1,
   "metadata": {
    "scrolled": false
   },
   "outputs": [
    {
     "name": "stdout",
     "output_type": "stream",
     "text": [
      "2019-12-12 13:44:58,055 - PtrParser Decoding - INFO - Creating Alphabets\n",
      "2019-12-12 13:44:58,089 - Create Alphabets - INFO - Word Alphabet Size (Singleton): 32880 (10061)\n",
      "2019-12-12 13:44:58,090 - Create Alphabets - INFO - Character Alphabet Size (Singleton): 3603 (0)\n",
      "2019-12-12 13:44:58,090 - Create Alphabets - INFO - POS Alphabet Size (Singleton): 46 (0)\n",
      "2019-12-12 13:44:58,090 - Create Alphabets - INFO - Type Alphabet Size: 39\n",
      "2019-12-12 13:44:58,091 - PtrParser Decoding - INFO - Word Alphabet Size: 32880\n",
      "2019-12-12 13:44:58,091 - PtrParser Decoding - INFO - Character Alphabet Size: 3603\n",
      "2019-12-12 13:44:58,092 - PtrParser Decoding - INFO - POS Alphabet Size: 46\n",
      "2019-12-12 13:44:58,092 - PtrParser Decoding - INFO - Type Alphabet Size: 39\n",
      "2019-12-12 13:44:58,093 - PtrParser Decoding - INFO - Argument Loading Time : 0.038099050521850586\n",
      "2019-12-12 13:44:58,093 - PtrParser Decoding - INFO - vocabulary Loading Time : 2.6226043701171875e-06\n",
      "loading model: sejong_conll_model/191127_2/d1e894_sejong_ppos2_mecab.model\n",
      "2019-12-12 13:45:02,122 - Load Stack Pointer Network - INFO - Embedding dim: word=300, char=50, pos=50\n",
      "2019-12-12 13:45:02,124 - Load Stack Pointer Network - INFO - Char CNN: filter=128, kernel=3\n",
      "2019-12-12 13:45:02,125 - Load Stack Pointer Network - INFO - Eojul CNN: filter=300, kernel=3\n",
      "2019-12-12 13:45:02,125 - Load Stack Pointer Network - INFO - RNN: LSTM, num_layer=(3, 2), input_dec=256, hidden=512, arc_space=512, type_space=128\n",
      "2019-12-12 13:45:02,126 - Load Stack Pointer Network - INFO - dropout(in, out, rnn): (0.33, 0.33, [0.2, 0.2])\n",
      "2019-12-12 13:45:02,127 - Load Stack Pointer Network - INFO - prior order: left2right, grand parent: True, sibling: True, \n",
      "2019-12-12 13:45:02,127 - Load Stack Pointer Network - INFO - skip connect: True, beam: 10, use_gpu: True\n",
      "2019-12-12 13:45:02,128 - Load Stack Pointer Network - INFO - Stack Pointer Network Loading Time : 4.034435987472534\n",
      "2019-12-12 13:45:02,129 - Data Reading - INFO - Convert origin text to CoNLL-u format from STDIN\n",
      "\n",
      "Input the sentence to parse.\n",
      "Input 'quit' to quit the program\n",
      ">> ㅁㄴ;ㅣ아ㅓ\n",
      "\n",
      "1\tㅁㄴ;ㅣ아ㅓ\tㅁ ㄴ ; ㅣ 아 ㅓ\t-\tNNG+NNG+SY+NNG+JKV+UNKNOWN\t-\t0\tVP\t-\t-\n",
      "\n"
     ]
    },
    {
     "data": {
      "text/html": [
       "<svg xmlns=\"http://www.w3.org/2000/svg\" xmlns:xlink=\"http://www.w3.org/1999/xlink\" xml:lang=\"en\" id=\"3be7dbd90f3c4270b85f2951676bc911-0\" class=\"displacy\" width=\"140\" height=\"77.0\" direction=\"ltr\" style=\"max-width: none; height: 77.0px; color: white; background: #09a3d5; font-family: Source Sans Pro; direction: ltr\">\n",
       "<text class=\"displacy-token\" fill=\"currentColor\" text-anchor=\"middle\" y=\"27.0\">\n",
       "    <tspan class=\"displacy-word\" fill=\"currentColor\" x=\"50\">ㅁㄴ;ㅣ아ㅓ</tspan>\n",
       "    <tspan class=\"displacy-tag\" dy=\"2em\" fill=\"currentColor\" x=\"50\">VP</tspan>\n",
       "</text>\n",
       "</svg>"
      ],
      "text/plain": [
       "<IPython.core.display.HTML object>"
      ]
     },
     "metadata": {},
     "output_type": "display_data"
    },
    {
     "name": "stdout",
     "output_type": "stream",
     "text": [
      "2019-12-12 13:45:06,112 - Predicting data - INFO - Predicting Time : 0.04310965538024902\n",
      "\n",
      "Input the sentence to parse.\n",
      "Input 'quit' to quit the program\n",
      ">> 나는 학교에 간다.\n",
      "\n",
      "1\t나는\t나 는\t-\tNP+JX\t-\t3\tNP_SBJ\t-\t-\n",
      "2\t학교에\t학교 에\t-\tNNG+JKB\t-\t3\tNP_AJT\t-\t-\n",
      "3\t간다.\t가 ㄴ다 .\t-\tVV+EF+SF\t-\t0\tVP\t-\t-\n",
      "\n"
     ]
    },
    {
     "data": {
      "text/html": [
       "<svg xmlns=\"http://www.w3.org/2000/svg\" xmlns:xlink=\"http://www.w3.org/1999/xlink\" xml:lang=\"en\" id=\"9e857f0ef1a54e61b8cdfd12c8a02bd2-0\" class=\"displacy\" width=\"320\" height=\"167.0\" direction=\"ltr\" style=\"max-width: none; height: 167.0px; color: white; background: #09a3d5; font-family: Source Sans Pro; direction: ltr\">\n",
       "<text class=\"displacy-token\" fill=\"currentColor\" text-anchor=\"middle\" y=\"117.0\">\n",
       "    <tspan class=\"displacy-word\" fill=\"currentColor\" x=\"50\">나는</tspan>\n",
       "    <tspan class=\"displacy-tag\" dy=\"2em\" fill=\"currentColor\" x=\"50\">NP_SBJ</tspan>\n",
       "</text>\n",
       "\n",
       "<text class=\"displacy-token\" fill=\"currentColor\" text-anchor=\"middle\" y=\"117.0\">\n",
       "    <tspan class=\"displacy-word\" fill=\"currentColor\" x=\"140\">학교에</tspan>\n",
       "    <tspan class=\"displacy-tag\" dy=\"2em\" fill=\"currentColor\" x=\"140\">NP_AJT</tspan>\n",
       "</text>\n",
       "\n",
       "<text class=\"displacy-token\" fill=\"currentColor\" text-anchor=\"middle\" y=\"117.0\">\n",
       "    <tspan class=\"displacy-word\" fill=\"currentColor\" x=\"230\">간다.</tspan>\n",
       "    <tspan class=\"displacy-tag\" dy=\"2em\" fill=\"currentColor\" x=\"230\">VP</tspan>\n",
       "</text>\n",
       "\n",
       "<g class=\"displacy-arrow\">\n",
       "    <path class=\"displacy-arc\" id=\"arrow-9e857f0ef1a54e61b8cdfd12c8a02bd2-0-0\" stroke-width=\"2px\" d=\"M60,92.0 60,62.0 230.0,62.0 230.0,92.0\" fill=\"none\" stroke=\"currentColor\"/>\n",
       "    <text dy=\"1.25em\" style=\"font-size: 0.8em; letter-spacing: 1px\">\n",
       "        <textPath xlink:href=\"#arrow-9e857f0ef1a54e61b8cdfd12c8a02bd2-0-0\" class=\"displacy-label\" startOffset=\"50%\" side=\"left\" fill=\"currentColor\" text-anchor=\"middle\"></textPath>\n",
       "    </text>\n",
       "    <path class=\"displacy-arrowhead\" d=\"M60,94.0 L56,86.0 64,86.0\" fill=\"currentColor\"/>\n",
       "</g>\n",
       "\n",
       "<g class=\"displacy-arrow\">\n",
       "    <path class=\"displacy-arc\" id=\"arrow-9e857f0ef1a54e61b8cdfd12c8a02bd2-0-1\" stroke-width=\"2px\" d=\"M150,92.0 150,77.0 227.5,77.0 227.5,92.0\" fill=\"none\" stroke=\"currentColor\"/>\n",
       "    <text dy=\"1.25em\" style=\"font-size: 0.8em; letter-spacing: 1px\">\n",
       "        <textPath xlink:href=\"#arrow-9e857f0ef1a54e61b8cdfd12c8a02bd2-0-1\" class=\"displacy-label\" startOffset=\"50%\" side=\"left\" fill=\"currentColor\" text-anchor=\"middle\"></textPath>\n",
       "    </text>\n",
       "    <path class=\"displacy-arrowhead\" d=\"M150,94.0 L146,86.0 154,86.0\" fill=\"currentColor\"/>\n",
       "</g>\n",
       "</svg>"
      ],
      "text/plain": [
       "<IPython.core.display.HTML object>"
      ]
     },
     "metadata": {},
     "output_type": "display_data"
    },
    {
     "name": "stdout",
     "output_type": "stream",
     "text": [
      "2019-12-12 13:45:08,704 - Predicting data - INFO - Predicting Time : 0.08162260055541992\n",
      "2019-12-12 13:45:08,704 - Predicting data - INFO - Predicting Time : 0.08162260055541992\n",
      "\n",
      "Input the sentence to parse.\n",
      "Input 'quit' to quit the program\n",
      ">> 보험 약관 대출 하려면 어떻게 하면 되요?\n",
      "\n",
      "1\t보험\t보험\t-\tNNG\t-\t2\tNP\t-\t-\n",
      "2\t약관\t약관\t-\tNNG\t-\t4\tNP_OBJ\t-\t-\n",
      "3\t대출\t대출\t-\tNNG\t-\t4\tNP_OBJ\t-\t-\n",
      "4\t하려면\t하 려면\t-\tXSV+EC\t-\t6\tVP\t-\t-\n",
      "5\t어떻게\t어떻게\t-\tMAG\t-\t6\tAP\t-\t-\n",
      "6\t하면\t하 면\t-\tVV+EC\t-\t7\tVP\t-\t-\n",
      "7\t되요?\t되 요 ?\t-\tVV+EF+SF\t-\t0\tVP\t-\t-\n",
      "\n"
     ]
    },
    {
     "data": {
      "text/html": [
       "<svg xmlns=\"http://www.w3.org/2000/svg\" xmlns:xlink=\"http://www.w3.org/1999/xlink\" xml:lang=\"en\" id=\"a41f20cbd2c54ce4965bcee64a8bf36f-0\" class=\"displacy\" width=\"680\" height=\"167.0\" direction=\"ltr\" style=\"max-width: none; height: 167.0px; color: white; background: #09a3d5; font-family: Source Sans Pro; direction: ltr\">\n",
       "<text class=\"displacy-token\" fill=\"currentColor\" text-anchor=\"middle\" y=\"117.0\">\n",
       "    <tspan class=\"displacy-word\" fill=\"currentColor\" x=\"50\">보험</tspan>\n",
       "    <tspan class=\"displacy-tag\" dy=\"2em\" fill=\"currentColor\" x=\"50\">NP</tspan>\n",
       "</text>\n",
       "\n",
       "<text class=\"displacy-token\" fill=\"currentColor\" text-anchor=\"middle\" y=\"117.0\">\n",
       "    <tspan class=\"displacy-word\" fill=\"currentColor\" x=\"140\">약관</tspan>\n",
       "    <tspan class=\"displacy-tag\" dy=\"2em\" fill=\"currentColor\" x=\"140\">NP_OBJ</tspan>\n",
       "</text>\n",
       "\n",
       "<text class=\"displacy-token\" fill=\"currentColor\" text-anchor=\"middle\" y=\"117.0\">\n",
       "    <tspan class=\"displacy-word\" fill=\"currentColor\" x=\"230\">대출</tspan>\n",
       "    <tspan class=\"displacy-tag\" dy=\"2em\" fill=\"currentColor\" x=\"230\">NP_OBJ</tspan>\n",
       "</text>\n",
       "\n",
       "<text class=\"displacy-token\" fill=\"currentColor\" text-anchor=\"middle\" y=\"117.0\">\n",
       "    <tspan class=\"displacy-word\" fill=\"currentColor\" x=\"320\">하려면</tspan>\n",
       "    <tspan class=\"displacy-tag\" dy=\"2em\" fill=\"currentColor\" x=\"320\">VP</tspan>\n",
       "</text>\n",
       "\n",
       "<text class=\"displacy-token\" fill=\"currentColor\" text-anchor=\"middle\" y=\"117.0\">\n",
       "    <tspan class=\"displacy-word\" fill=\"currentColor\" x=\"410\">어떻게</tspan>\n",
       "    <tspan class=\"displacy-tag\" dy=\"2em\" fill=\"currentColor\" x=\"410\">AP</tspan>\n",
       "</text>\n",
       "\n",
       "<text class=\"displacy-token\" fill=\"currentColor\" text-anchor=\"middle\" y=\"117.0\">\n",
       "    <tspan class=\"displacy-word\" fill=\"currentColor\" x=\"500\">하면</tspan>\n",
       "    <tspan class=\"displacy-tag\" dy=\"2em\" fill=\"currentColor\" x=\"500\">VP</tspan>\n",
       "</text>\n",
       "\n",
       "<text class=\"displacy-token\" fill=\"currentColor\" text-anchor=\"middle\" y=\"117.0\">\n",
       "    <tspan class=\"displacy-word\" fill=\"currentColor\" x=\"590\">되요?</tspan>\n",
       "    <tspan class=\"displacy-tag\" dy=\"2em\" fill=\"currentColor\" x=\"590\">VP</tspan>\n",
       "</text>\n",
       "\n",
       "<g class=\"displacy-arrow\">\n",
       "    <path class=\"displacy-arc\" id=\"arrow-a41f20cbd2c54ce4965bcee64a8bf36f-0-0\" stroke-width=\"2px\" d=\"M60,92.0 60,77.0 137.5,77.0 137.5,92.0\" fill=\"none\" stroke=\"currentColor\"/>\n",
       "    <text dy=\"1.25em\" style=\"font-size: 0.8em; letter-spacing: 1px\">\n",
       "        <textPath xlink:href=\"#arrow-a41f20cbd2c54ce4965bcee64a8bf36f-0-0\" class=\"displacy-label\" startOffset=\"50%\" side=\"left\" fill=\"currentColor\" text-anchor=\"middle\"></textPath>\n",
       "    </text>\n",
       "    <path class=\"displacy-arrowhead\" d=\"M60,94.0 L56,86.0 64,86.0\" fill=\"currentColor\"/>\n",
       "</g>\n",
       "\n",
       "<g class=\"displacy-arrow\">\n",
       "    <path class=\"displacy-arc\" id=\"arrow-a41f20cbd2c54ce4965bcee64a8bf36f-0-1\" stroke-width=\"2px\" d=\"M150,92.0 150,62.0 320.0,62.0 320.0,92.0\" fill=\"none\" stroke=\"currentColor\"/>\n",
       "    <text dy=\"1.25em\" style=\"font-size: 0.8em; letter-spacing: 1px\">\n",
       "        <textPath xlink:href=\"#arrow-a41f20cbd2c54ce4965bcee64a8bf36f-0-1\" class=\"displacy-label\" startOffset=\"50%\" side=\"left\" fill=\"currentColor\" text-anchor=\"middle\"></textPath>\n",
       "    </text>\n",
       "    <path class=\"displacy-arrowhead\" d=\"M150,94.0 L146,86.0 154,86.0\" fill=\"currentColor\"/>\n",
       "</g>\n",
       "\n",
       "<g class=\"displacy-arrow\">\n",
       "    <path class=\"displacy-arc\" id=\"arrow-a41f20cbd2c54ce4965bcee64a8bf36f-0-2\" stroke-width=\"2px\" d=\"M240,92.0 240,77.0 317.5,77.0 317.5,92.0\" fill=\"none\" stroke=\"currentColor\"/>\n",
       "    <text dy=\"1.25em\" style=\"font-size: 0.8em; letter-spacing: 1px\">\n",
       "        <textPath xlink:href=\"#arrow-a41f20cbd2c54ce4965bcee64a8bf36f-0-2\" class=\"displacy-label\" startOffset=\"50%\" side=\"left\" fill=\"currentColor\" text-anchor=\"middle\"></textPath>\n",
       "    </text>\n",
       "    <path class=\"displacy-arrowhead\" d=\"M240,94.0 L236,86.0 244,86.0\" fill=\"currentColor\"/>\n",
       "</g>\n",
       "\n",
       "<g class=\"displacy-arrow\">\n",
       "    <path class=\"displacy-arc\" id=\"arrow-a41f20cbd2c54ce4965bcee64a8bf36f-0-3\" stroke-width=\"2px\" d=\"M330,92.0 330,62.0 500.0,62.0 500.0,92.0\" fill=\"none\" stroke=\"currentColor\"/>\n",
       "    <text dy=\"1.25em\" style=\"font-size: 0.8em; letter-spacing: 1px\">\n",
       "        <textPath xlink:href=\"#arrow-a41f20cbd2c54ce4965bcee64a8bf36f-0-3\" class=\"displacy-label\" startOffset=\"50%\" side=\"left\" fill=\"currentColor\" text-anchor=\"middle\"></textPath>\n",
       "    </text>\n",
       "    <path class=\"displacy-arrowhead\" d=\"M330,94.0 L326,86.0 334,86.0\" fill=\"currentColor\"/>\n",
       "</g>\n",
       "\n",
       "<g class=\"displacy-arrow\">\n",
       "    <path class=\"displacy-arc\" id=\"arrow-a41f20cbd2c54ce4965bcee64a8bf36f-0-4\" stroke-width=\"2px\" d=\"M420,92.0 420,77.0 497.5,77.0 497.5,92.0\" fill=\"none\" stroke=\"currentColor\"/>\n",
       "    <text dy=\"1.25em\" style=\"font-size: 0.8em; letter-spacing: 1px\">\n",
       "        <textPath xlink:href=\"#arrow-a41f20cbd2c54ce4965bcee64a8bf36f-0-4\" class=\"displacy-label\" startOffset=\"50%\" side=\"left\" fill=\"currentColor\" text-anchor=\"middle\"></textPath>\n",
       "    </text>\n",
       "    <path class=\"displacy-arrowhead\" d=\"M420,94.0 L416,86.0 424,86.0\" fill=\"currentColor\"/>\n",
       "</g>\n",
       "\n",
       "<g class=\"displacy-arrow\">\n",
       "    <path class=\"displacy-arc\" id=\"arrow-a41f20cbd2c54ce4965bcee64a8bf36f-0-5\" stroke-width=\"2px\" d=\"M510,92.0 510,77.0 587.5,77.0 587.5,92.0\" fill=\"none\" stroke=\"currentColor\"/>\n",
       "    <text dy=\"1.25em\" style=\"font-size: 0.8em; letter-spacing: 1px\">\n",
       "        <textPath xlink:href=\"#arrow-a41f20cbd2c54ce4965bcee64a8bf36f-0-5\" class=\"displacy-label\" startOffset=\"50%\" side=\"left\" fill=\"currentColor\" text-anchor=\"middle\"></textPath>\n",
       "    </text>\n",
       "    <path class=\"displacy-arrowhead\" d=\"M510,94.0 L506,86.0 514,86.0\" fill=\"currentColor\"/>\n",
       "</g>\n",
       "</svg>"
      ],
      "text/plain": [
       "<IPython.core.display.HTML object>"
      ]
     },
     "metadata": {},
     "output_type": "display_data"
    },
    {
     "name": "stdout",
     "output_type": "stream",
     "text": [
      "OrderedDict([('id', '4'), ('form', '하려면'), ('lemma', '하 려면'), ('upostag', '-'), ('xpostag', 'XSV+EC'), ('feats', '-'), ('head', '6'), ('deprel', 'VP'), ('deps', '-'), ('misc', '-')])\n",
      "=====\n",
      "1 sentence : 어떻게 하면\n",
      "\n",
      "=====\n",
      "2 sentence : 보험 약관 대출 하려면\n",
      "\n",
      "=====\n",
      "3 sentence : 되요?\n",
      "\n",
      "2019-12-12 13:45:19,069 - Predicting data - INFO - Predicting Time : 0.2278904914855957\n",
      "2019-12-12 13:45:19,069 - Predicting data - INFO - Predicting Time : 0.2278904914855957\n",
      "2019-12-12 13:45:19,069 - Predicting data - INFO - Predicting Time : 0.2278904914855957\n",
      "\n",
      "Input the sentence to parse.\n",
      "Input 'quit' to quit the program\n",
      ">> 지난번에 대출한 보험에서 상환을 하려고요\n",
      "\n",
      "1\t지난번에\t지난번 에\t-\tNNG+JKB\t-\t2\tNP_AJT\t-\t-\n",
      "2\t대출한\t대출 하 ㄴ\t-\tNNG+XSV+ETM\t-\t3\tVP_MOD\t-\t-\n",
      "3\t보험에서\t보험 에서\t-\tNNG+JKB\t-\t5\tNP_AJT\t-\t-\n",
      "4\t상환을\t상환 을\t-\tNNG+JKO\t-\t5\tNP_OBJ\t-\t-\n",
      "5\t하려고요\t하 려고요\t-\tVV+EC\t-\t0\tVP\t-\t-\n",
      "\n"
     ]
    },
    {
     "data": {
      "text/html": [
       "<svg xmlns=\"http://www.w3.org/2000/svg\" xmlns:xlink=\"http://www.w3.org/1999/xlink\" xml:lang=\"en\" id=\"fb5275a92cd84c8faed321540349eee8-0\" class=\"displacy\" width=\"500\" height=\"167.0\" direction=\"ltr\" style=\"max-width: none; height: 167.0px; color: white; background: #09a3d5; font-family: Source Sans Pro; direction: ltr\">\n",
       "<text class=\"displacy-token\" fill=\"currentColor\" text-anchor=\"middle\" y=\"117.0\">\n",
       "    <tspan class=\"displacy-word\" fill=\"currentColor\" x=\"50\">지난번에</tspan>\n",
       "    <tspan class=\"displacy-tag\" dy=\"2em\" fill=\"currentColor\" x=\"50\">NP_AJT</tspan>\n",
       "</text>\n",
       "\n",
       "<text class=\"displacy-token\" fill=\"currentColor\" text-anchor=\"middle\" y=\"117.0\">\n",
       "    <tspan class=\"displacy-word\" fill=\"currentColor\" x=\"140\">대출한</tspan>\n",
       "    <tspan class=\"displacy-tag\" dy=\"2em\" fill=\"currentColor\" x=\"140\">VP_MOD</tspan>\n",
       "</text>\n",
       "\n",
       "<text class=\"displacy-token\" fill=\"currentColor\" text-anchor=\"middle\" y=\"117.0\">\n",
       "    <tspan class=\"displacy-word\" fill=\"currentColor\" x=\"230\">보험에서</tspan>\n",
       "    <tspan class=\"displacy-tag\" dy=\"2em\" fill=\"currentColor\" x=\"230\">NP_AJT</tspan>\n",
       "</text>\n",
       "\n",
       "<text class=\"displacy-token\" fill=\"currentColor\" text-anchor=\"middle\" y=\"117.0\">\n",
       "    <tspan class=\"displacy-word\" fill=\"currentColor\" x=\"320\">상환을</tspan>\n",
       "    <tspan class=\"displacy-tag\" dy=\"2em\" fill=\"currentColor\" x=\"320\">NP_OBJ</tspan>\n",
       "</text>\n",
       "\n",
       "<text class=\"displacy-token\" fill=\"currentColor\" text-anchor=\"middle\" y=\"117.0\">\n",
       "    <tspan class=\"displacy-word\" fill=\"currentColor\" x=\"410\">하려고요</tspan>\n",
       "    <tspan class=\"displacy-tag\" dy=\"2em\" fill=\"currentColor\" x=\"410\">VP</tspan>\n",
       "</text>\n",
       "\n",
       "<g class=\"displacy-arrow\">\n",
       "    <path class=\"displacy-arc\" id=\"arrow-fb5275a92cd84c8faed321540349eee8-0-0\" stroke-width=\"2px\" d=\"M60,92.0 60,77.0 137.5,77.0 137.5,92.0\" fill=\"none\" stroke=\"currentColor\"/>\n",
       "    <text dy=\"1.25em\" style=\"font-size: 0.8em; letter-spacing: 1px\">\n",
       "        <textPath xlink:href=\"#arrow-fb5275a92cd84c8faed321540349eee8-0-0\" class=\"displacy-label\" startOffset=\"50%\" side=\"left\" fill=\"currentColor\" text-anchor=\"middle\"></textPath>\n",
       "    </text>\n",
       "    <path class=\"displacy-arrowhead\" d=\"M60,94.0 L56,86.0 64,86.0\" fill=\"currentColor\"/>\n",
       "</g>\n",
       "\n",
       "<g class=\"displacy-arrow\">\n",
       "    <path class=\"displacy-arc\" id=\"arrow-fb5275a92cd84c8faed321540349eee8-0-1\" stroke-width=\"2px\" d=\"M150,92.0 150,77.0 227.5,77.0 227.5,92.0\" fill=\"none\" stroke=\"currentColor\"/>\n",
       "    <text dy=\"1.25em\" style=\"font-size: 0.8em; letter-spacing: 1px\">\n",
       "        <textPath xlink:href=\"#arrow-fb5275a92cd84c8faed321540349eee8-0-1\" class=\"displacy-label\" startOffset=\"50%\" side=\"left\" fill=\"currentColor\" text-anchor=\"middle\"></textPath>\n",
       "    </text>\n",
       "    <path class=\"displacy-arrowhead\" d=\"M150,94.0 L146,86.0 154,86.0\" fill=\"currentColor\"/>\n",
       "</g>\n",
       "\n",
       "<g class=\"displacy-arrow\">\n",
       "    <path class=\"displacy-arc\" id=\"arrow-fb5275a92cd84c8faed321540349eee8-0-2\" stroke-width=\"2px\" d=\"M240,92.0 240,62.0 410.0,62.0 410.0,92.0\" fill=\"none\" stroke=\"currentColor\"/>\n",
       "    <text dy=\"1.25em\" style=\"font-size: 0.8em; letter-spacing: 1px\">\n",
       "        <textPath xlink:href=\"#arrow-fb5275a92cd84c8faed321540349eee8-0-2\" class=\"displacy-label\" startOffset=\"50%\" side=\"left\" fill=\"currentColor\" text-anchor=\"middle\"></textPath>\n",
       "    </text>\n",
       "    <path class=\"displacy-arrowhead\" d=\"M240,94.0 L236,86.0 244,86.0\" fill=\"currentColor\"/>\n",
       "</g>\n",
       "\n",
       "<g class=\"displacy-arrow\">\n",
       "    <path class=\"displacy-arc\" id=\"arrow-fb5275a92cd84c8faed321540349eee8-0-3\" stroke-width=\"2px\" d=\"M330,92.0 330,77.0 407.5,77.0 407.5,92.0\" fill=\"none\" stroke=\"currentColor\"/>\n",
       "    <text dy=\"1.25em\" style=\"font-size: 0.8em; letter-spacing: 1px\">\n",
       "        <textPath xlink:href=\"#arrow-fb5275a92cd84c8faed321540349eee8-0-3\" class=\"displacy-label\" startOffset=\"50%\" side=\"left\" fill=\"currentColor\" text-anchor=\"middle\"></textPath>\n",
       "    </text>\n",
       "    <path class=\"displacy-arrowhead\" d=\"M330,94.0 L326,86.0 334,86.0\" fill=\"currentColor\"/>\n",
       "</g>\n",
       "</svg>"
      ],
      "text/plain": [
       "<IPython.core.display.HTML object>"
      ]
     },
     "metadata": {},
     "output_type": "display_data"
    },
    {
     "name": "stdout",
     "output_type": "stream",
     "text": [
      "OrderedDict([('id', '5'), ('form', '하려고요'), ('lemma', '하 려고요'), ('upostag', '-'), ('xpostag', 'VV+EC'), ('feats', '-'), ('head', '0'), ('deprel', 'VP'), ('deps', '-'), ('misc', '-')])\n",
      "=====\n",
      "1 sentence : 지난번에 대출한 보험에서 상환을 하려고요\n",
      "\n",
      "2019-12-12 13:46:08,193 - Predicting data - INFO - Predicting Time : 0.12118816375732422\n",
      "2019-12-12 13:46:08,193 - Predicting data - INFO - Predicting Time : 0.12118816375732422\n",
      "2019-12-12 13:46:08,193 - Predicting data - INFO - Predicting Time : 0.12118816375732422\n",
      "2019-12-12 13:46:08,193 - Predicting data - INFO - Predicting Time : 0.12118816375732422\n",
      "\n",
      "Input the sentence to parse.\n",
      "Input 'quit' to quit the program\n",
      ">> quit\n",
      "Finishing Prediction..\n",
      "2019-12-12 13:46:15,855 - Predicting data - INFO - Finished\n",
      "2019-12-12 13:46:15,855 - Predicting data - INFO - Finished\n",
      "2019-12-12 13:46:15,855 - Predicting data - INFO - Finished\n",
      "2019-12-12 13:46:15,855 - Predicting data - INFO - Finished\n",
      "2019-12-12 13:46:15,857 - Predicting data - INFO - Total Time : 77.80254101753235\n",
      "2019-12-12 13:46:15,857 - Predicting data - INFO - Total Time : 77.80254101753235\n",
      "2019-12-12 13:46:15,857 - Predicting data - INFO - Total Time : 77.80254101753235\n",
      "2019-12-12 13:46:15,857 - Predicting data - INFO - Total Time : 77.80254101753235\n"
     ]
    }
   ],
   "source": [
    "%run -i StackPointerParser_predict.py --model_path sejong_conll_model/191127_2/ --model_name d1e894_sejong_ppos2_mecab.model --beam 10 --use_gpu --use_stdio\n"
   ]
  },
  {
   "cell_type": "code",
   "execution_count": null,
   "metadata": {
    "scrolled": false
   },
   "outputs": [],
   "source": [
    "%run -i StackPointerParser_predict.py --model_path sejong_conll_model/191108/ --model_name a3c367_sejong_ppos2.model --beam 1 --use_gpu --use_stdio\n"
   ]
  },
  {
   "cell_type": "code",
   "execution_count": null,
   "metadata": {},
   "outputs": [],
   "source": []
  }
 ],
 "metadata": {
  "kernelspec": {
   "display_name": "py36",
   "language": "python",
   "name": "py36"
  },
  "language_info": {
   "codemirror_mode": {
    "name": "ipython",
    "version": 3
   },
   "file_extension": ".py",
   "mimetype": "text/x-python",
   "name": "python",
   "nbconvert_exporter": "python",
   "pygments_lexer": "ipython3",
   "version": "3.6.9"
  }
 },
 "nbformat": 4,
 "nbformat_minor": 2
}
