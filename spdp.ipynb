{
 "cells": [
  {
   "cell_type": "code",
   "execution_count": null,
   "metadata": {},
   "outputs": [
    {
     "name": "stdout",
     "output_type": "stream",
     "text": [
      "2019-11-26 17:37:13,444 - PtrParser Decoding - INFO - Creating Alphabets\n",
      "2019-11-26 17:37:13,463 - Create Alphabets - INFO - Word Alphabet Size (Singleton): 21351 (0)\n",
      "2019-11-26 17:37:13,464 - Create Alphabets - INFO - Character Alphabet Size (Singleton): 3603 (0)\n",
      "2019-11-26 17:37:13,464 - Create Alphabets - INFO - POS Alphabet Size (Singleton): 47 (0)\n",
      "2019-11-26 17:37:13,465 - Create Alphabets - INFO - Type Alphabet Size: 39\n",
      "2019-11-26 17:37:13,465 - PtrParser Decoding - INFO - Word Alphabet Size: 21351\n",
      "2019-11-26 17:37:13,465 - PtrParser Decoding - INFO - Character Alphabet Size: 3603\n",
      "2019-11-26 17:37:13,466 - PtrParser Decoding - INFO - POS Alphabet Size: 47\n",
      "2019-11-26 17:37:13,466 - PtrParser Decoding - INFO - Type Alphabet Size: 39\n",
      "2019-11-26 17:37:13,466 - PtrParser Decoding - INFO - Argument Loading Time : 0.023625612258911133\n",
      "2019-11-26 17:37:13,467 - PtrParser Decoding - INFO - vocabulary Loading Time : 1.6689300537109375e-06\n",
      "loading model: sejong_conll_model/191108/a3c367_sejong_ppos2.model\n",
      "2019-11-26 17:37:13,527 - Load Stack Pointer Network - INFO - Embedding dim: word=100, char=50, pos=50\n",
      "2019-11-26 17:37:13,528 - Load Stack Pointer Network - INFO - Char CNN: filter=50, kernel=3\n",
      "2019-11-26 17:37:13,528 - Load Stack Pointer Network - INFO - Eojul CNN: filter=100, kernel=3\n",
      "2019-11-26 17:37:13,528 - Load Stack Pointer Network - INFO - RNN: FastLSTM, num_layer=(1, 1), input_dec=256, hidden=256, arc_space=128, type_space=128\n",
      "2019-11-26 17:37:13,529 - Load Stack Pointer Network - INFO - dropout(in, out, rnn): (0.33, 0.33, [0.33, 0.33])\n",
      "2019-11-26 17:37:13,529 - Load Stack Pointer Network - INFO - prior order: left2right, grand parent: True, sibling: True, \n",
      "2019-11-26 17:37:13,529 - Load Stack Pointer Network - INFO - skip connect: True, beam: 1, use_gpu: False\n",
      "2019-11-26 17:37:13,530 - Load Stack Pointer Network - INFO - Stack Pointer Network Loading Time : 0.06280207633972168\n",
      "2019-11-26 17:37:13,530 - Data Reading - INFO - Convert origin text to CoNLL-u format from STDIN\n",
      "\n",
      "Input the sentence to parse.\n",
      "Input 'quit' to quit the program\n",
      ">> 나는 밥을 먹는다.\n",
      "\n",
      "1\t나는\t나 는\t-\tNP+JX\t-\t3\tNP_SBJ\t-\t-\n",
      "2\t밥을\t밥 을\t-\tNNG+JKO\t-\t3\tNP_OBJ\t-\t-\n",
      "3\t먹는다.\t먹 는다 .\t-\tVV+EF+SF\t-\t0\tVP\t-\t-\n",
      "\n"
     ]
    },
    {
     "data": {
      "text/html": [
       "<svg xmlns=\"http://www.w3.org/2000/svg\" xmlns:xlink=\"http://www.w3.org/1999/xlink\" xml:lang=\"en\" id=\"187619d9b7a7437aa2e788abb4000468-0\" class=\"displacy\" width=\"320\" height=\"167.0\" direction=\"ltr\" style=\"max-width: none; height: 167.0px; color: white; background: #09a3d5; font-family: Source Sans Pro; direction: ltr\">\n",
       "<text class=\"displacy-token\" fill=\"currentColor\" text-anchor=\"middle\" y=\"117.0\">\n",
       "    <tspan class=\"displacy-word\" fill=\"currentColor\" x=\"50\">나는</tspan>\n",
       "    <tspan class=\"displacy-tag\" dy=\"2em\" fill=\"currentColor\" x=\"50\">NP_SBJ</tspan>\n",
       "</text>\n",
       "\n",
       "<text class=\"displacy-token\" fill=\"currentColor\" text-anchor=\"middle\" y=\"117.0\">\n",
       "    <tspan class=\"displacy-word\" fill=\"currentColor\" x=\"140\">밥을</tspan>\n",
       "    <tspan class=\"displacy-tag\" dy=\"2em\" fill=\"currentColor\" x=\"140\">NP_OBJ</tspan>\n",
       "</text>\n",
       "\n",
       "<text class=\"displacy-token\" fill=\"currentColor\" text-anchor=\"middle\" y=\"117.0\">\n",
       "    <tspan class=\"displacy-word\" fill=\"currentColor\" x=\"230\">먹는다.</tspan>\n",
       "    <tspan class=\"displacy-tag\" dy=\"2em\" fill=\"currentColor\" x=\"230\">VP</tspan>\n",
       "</text>\n",
       "\n",
       "<g class=\"displacy-arrow\">\n",
       "    <path class=\"displacy-arc\" id=\"arrow-187619d9b7a7437aa2e788abb4000468-0-0\" stroke-width=\"2px\" d=\"M60,92.0 60,62.0 230.0,62.0 230.0,92.0\" fill=\"none\" stroke=\"currentColor\"/>\n",
       "    <text dy=\"1.25em\" style=\"font-size: 0.8em; letter-spacing: 1px\">\n",
       "        <textPath xlink:href=\"#arrow-187619d9b7a7437aa2e788abb4000468-0-0\" class=\"displacy-label\" startOffset=\"50%\" side=\"left\" fill=\"currentColor\" text-anchor=\"middle\"></textPath>\n",
       "    </text>\n",
       "    <path class=\"displacy-arrowhead\" d=\"M60,94.0 L56,86.0 64,86.0\" fill=\"currentColor\"/>\n",
       "</g>\n",
       "\n",
       "<g class=\"displacy-arrow\">\n",
       "    <path class=\"displacy-arc\" id=\"arrow-187619d9b7a7437aa2e788abb4000468-0-1\" stroke-width=\"2px\" d=\"M150,92.0 150,77.0 227.5,77.0 227.5,92.0\" fill=\"none\" stroke=\"currentColor\"/>\n",
       "    <text dy=\"1.25em\" style=\"font-size: 0.8em; letter-spacing: 1px\">\n",
       "        <textPath xlink:href=\"#arrow-187619d9b7a7437aa2e788abb4000468-0-1\" class=\"displacy-label\" startOffset=\"50%\" side=\"left\" fill=\"currentColor\" text-anchor=\"middle\"></textPath>\n",
       "    </text>\n",
       "    <path class=\"displacy-arrowhead\" d=\"M150,94.0 L146,86.0 154,86.0\" fill=\"currentColor\"/>\n",
       "</g>\n",
       "</svg>"
      ],
      "text/plain": [
       "<IPython.core.display.HTML object>"
      ]
     },
     "metadata": {},
     "output_type": "display_data"
    },
    {
     "name": "stdout",
     "output_type": "stream",
     "text": [
      "2019-11-26 17:37:21,209 - Data Reading - INFO - Predicting Time : 2.052274227142334\n",
      "\n",
      "Input the sentence to parse.\n",
      "Input 'quit' to quit the program\n"
     ]
    }
   ],
   "source": [
    "%run -i StackPointerParser_predict.py --model_path sejong_conll_model/191108/ --model_name a3c367_sejong_ppos2.model --use_stdio\n"
   ]
  },
  {
   "cell_type": "code",
   "execution_count": null,
   "metadata": {},
   "outputs": [],
   "source": []
  }
 ],
 "metadata": {
  "kernelspec": {
   "display_name": "py36",
   "language": "python",
   "name": "py36"
  },
  "language_info": {
   "codemirror_mode": {
    "name": "ipython",
    "version": 3
   },
   "file_extension": ".py",
   "mimetype": "text/x-python",
   "name": "python",
   "nbconvert_exporter": "python",
   "pygments_lexer": "ipython3",
   "version": "3.6.9"
  }
 },
 "nbformat": 4,
 "nbformat_minor": 2
}
